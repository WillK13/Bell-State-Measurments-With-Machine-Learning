{
 "cells": [
  {
   "cell_type": "code",
   "execution_count": 12,
   "metadata": {},
   "outputs": [],
   "source": [
    "from projectq.ops import All, CNOT, H, Measure, X, Z\n",
    "from projectq import MainEngine"
   ]
  },
  {
   "cell_type": "code",
   "execution_count": 13,
   "metadata": {},
   "outputs": [
    {
     "data": {
      "text/plain": [
       "'\\nThe create_message function takes one of the entangled qubits as a input, \\nand a message value. The message value is a bit with the value of 0 or 1. \\nThe message_value is then entangled with the qubit, and converted into \\ntwo classical bits to send the data through classical channels\\n'"
      ]
     },
     "execution_count": 13,
     "metadata": {},
     "output_type": "execute_result"
    }
   ],
   "source": [
    "def create_bell_pair(quantum_engine):\n",
    "    # Qubit one is 'Alices' qubit, and will be used to create a message state\n",
    "    qubit_one = quantum_engine.allocate_qubit()\n",
    "    # Qubit two is 'Bobs' qubit, and will be used to re-create the message state\n",
    "    qubit_two = quantum_engine.allocate_qubit()\n",
    "    ''' \n",
    "    Hadamard gate to put Qubit one in superposition\n",
    "    This sets the value of a equal probability of being 1 or 0\n",
    "    '''\n",
    "    H | qubit_one\n",
    "\n",
    "    '''\n",
    "    CNOT gate to flip the second Qubit conditonally\n",
    "    on the first qubit being in the state |1⟩\n",
    "    '''\n",
    "    CNOT | (qubit_one, qubit_two)\n",
    "\n",
    "    return qubit_one, qubit_two\n",
    "\n",
    "\n",
    "'''\n",
    "The create_message function takes one of the entangled qubits as a input, \n",
    "and a message value. The message value is a bit with the value of 0 or 1. \n",
    "The message_value is then entangled with the qubit, and converted into \n",
    "two classical bits to send the data through classical channels'''"
   ]
  },
  {
   "cell_type": "code",
   "execution_count": 14,
   "metadata": {},
   "outputs": [
    {
     "data": {
      "text/plain": [
       "'\\nThe function to receive messages takes the classical encoded\\nmessage, along with the second qubit from the Bell pair. \\nThen Pauli-X and/or Pauli-Z gates are applied to the Qubit,\\nconditionally on the values in the message. \\n'"
      ]
     },
     "execution_count": 14,
     "metadata": {},
     "output_type": "execute_result"
    }
   ],
   "source": [
    "def create_message(quantum_engine='', qubit_one='', message_value=0):\n",
    "    qubit_to_send = quantum_engine.allocate_qubit()\n",
    "    if message_value == 1:\n",
    "        '''\n",
    "        setting the qubit to positive if message_value is 1\n",
    "        by flipping the base state with a Pauli-X gate.\n",
    "        '''\n",
    "        X | qubit_to_send\n",
    "\n",
    "    # entangle the original qubit with the message qubit\n",
    "    CNOT | (qubit_to_send, qubit_one)\n",
    "\n",
    "    '''\n",
    "    1 - Put the message qubit in superposition \n",
    "    2 - Measure out the two values to get the classical bit value\n",
    "        by collapsing the state. \n",
    "    '''\n",
    "    H | qubit_to_send\n",
    "    Measure | qubit_to_send\n",
    "    Measure | qubit_one\n",
    "\n",
    "    # The qubits are now turned into normal bits we can send through classical channels\n",
    "    classical_encoded_message = [int(qubit_to_send), int(qubit_one)]\n",
    "\n",
    "    return classical_encoded_message\n",
    "\n",
    "\n",
    "'''\n",
    "The function to receive messages takes the classical encoded\n",
    "message, along with the second qubit from the Bell pair. \n",
    "Then Pauli-X and/or Pauli-Z gates are applied to the Qubit,\n",
    "conditionally on the values in the message. \n",
    "'''"
   ]
  },
  {
   "cell_type": "code",
   "execution_count": 15,
   "metadata": {},
   "outputs": [],
   "source": [
    "def message_reciever(quantum_engine, message, qubit_two):\n",
    "    '''\n",
    "    Pauli-X and/or Pauli-Z gates are applied to the Qubit,\n",
    "    conditionally on the values in the message.\n",
    "    '''\n",
    "    if message[1] == 1:\n",
    "        X | qubit_two\n",
    "    if message[0] == 1:\n",
    "        Z | qubit_two\n",
    "\n",
    "    '''\n",
    "    Measuring the Qubit and collapsing the state down to either 1 or 0\n",
    "    '''\n",
    "    Measure | qubit_two\n",
    "\n",
    "    quantum_engine.flush()\n",
    "\n",
    "    received_bit = int(qubit_two)\n",
    "    return received_bit"
   ]
  },
  {
   "cell_type": "code",
   "execution_count": 16,
   "metadata": {},
   "outputs": [],
   "source": [
    "def send_receive(bit=0,quantum_engine=''):\n",
    "    # Create bell pair\n",
    "    qubit_one, qubit_two = create_bell_pair(quantum_engine)\n",
    "    # entangle the bit with the first qubit\n",
    "    classical_encoded_message = create_message(quantum_engine=quantum_engine, qubit_one=qubit_one, message_value=bit)\n",
    "    # Teleport the bit and return it back\n",
    "    return message_reciever(quantum_engine, classical_encoded_message, qubit_two)"
   ]
  },
  {
   "cell_type": "code",
   "execution_count": 17,
   "metadata": {},
   "outputs": [],
   "source": [
    "def send_full_message(message='DataEspresso.com',quantum_engine=''):\n",
    "    # Convert the string into binary values\n",
    "    binary_encoded_message = [bin(ord(x))[2:].zfill(8) for x in message]\n",
    "    print('Message to send: ', message)\n",
    "    print('Binary message to send: ', binary_encoded_message)\n",
    "\n",
    "    '''\n",
    "    The binary message is divided into an list of each word represented in binary.\n",
    "    We iterate through each word, and then each bit in the letter.\n",
    "    Then we append the bits to an list to get back the letter representation\n",
    "    '''\n",
    "    received_bytes_list = []\n",
    "    for letter in binary_encoded_message:\n",
    "        received_bits = ''\n",
    "        for bit in letter:\n",
    "            received_bits = received_bits + str(send_receive(int(bit),quantum_engine))\n",
    "        received_bytes_list.append(received_bits)\n",
    "\n",
    "    binary_to_string = ''.join([chr(int(x, 2)) for x in received_bytes_list])\n",
    "    print('Received Binary message: ', received_bytes_list)\n",
    "    print('Received message: ', binary_to_string)"
   ]
  },
  {
   "cell_type": "code",
   "execution_count": 18,
   "metadata": {},
   "outputs": [
    {
     "name": "stdout",
     "output_type": "stream",
     "text": [
      "Message to send:  DataHello\n",
      "Binary message to send:  ['01000100', '01100001', '01110100', '01100001', '01001000', '01100101', '01101100', '01101100', '01101111']\n",
      "Received Binary message:  ['01000100', '01100001', '01110100', '01100001', '01001000', '01100101', '01101100', '01101100', '01101111']\n",
      "Received message:  DataHello\n"
     ]
    }
   ],
   "source": [
    "quantum_engine=MainEngine()\n",
    "message = 'DataHello'\n",
    "send_full_message(message=message,quantum_engine=quantum_engine )"
   ]
  },
  {
   "cell_type": "code",
   "execution_count": null,
   "metadata": {},
   "outputs": [],
   "source": []
  }
 ],
 "metadata": {
  "kernelspec": {
   "display_name": "Python 3",
   "language": "python",
   "name": "python3"
  },
  "language_info": {
   "codemirror_mode": {
    "name": "ipython",
    "version": 3
   },
   "file_extension": ".py",
   "mimetype": "text/x-python",
   "name": "python",
   "nbconvert_exporter": "python",
   "pygments_lexer": "ipython3",
   "version": "3.8.5"
  }
 },
 "nbformat": 4,
 "nbformat_minor": 4
}
